{
 "cells": [
  {
   "cell_type": "code",
   "execution_count": 195,
   "id": "1e58bc69",
   "metadata": {},
   "outputs": [],
   "source": [
    "import numpy as np\n",
    "import matplotlib.pyplot as plt\n",
    "%matplotlib inline"
   ]
  },
  {
   "cell_type": "code",
   "execution_count": 196,
   "id": "8e335ad9",
   "metadata": {},
   "outputs": [],
   "source": [
    "import torch"
   ]
  },
  {
   "cell_type": "code",
   "execution_count": 197,
   "id": "9246f28b",
   "metadata": {},
   "outputs": [],
   "source": [
    "# fetch mnist\n",
    "import gzip\n",
    "image_file = gzip.open(\"train-images.gz\", 'r')\n",
    "label_file = gzip.open(\"train-labels.gz\", 'r')\n",
    "\n",
    "batches = 1000\n",
    "image_file.read(16); label_file.read(8)\n",
    "label_buffer = [label_file.read(1) for _ in range(batches)]\n",
    "image_buffer = image_file.read(28 * 28 * batches)\n",
    "images = np.frombuffer(image_buffer, dtype=np.uint8).astype(np.float32).reshape(batches, 28, 28)\n",
    "labels = [np.frombuffer(label, dtype=np.uint8) for label in label_buffer]"
   ]
  },
  {
   "cell_type": "code",
   "execution_count": 198,
   "id": "13f1966c",
   "metadata": {},
   "outputs": [
    {
     "data": {
      "text/plain": [
       "array([5], dtype=uint8)"
      ]
     },
     "execution_count": 198,
     "metadata": {},
     "output_type": "execute_result"
    },
    {
     "data": {
      "image/png": "[encoded data removed]",
      "text/plain": [
       "<Figure size 432x288 with 1 Axes>"
      ]
     },
     "metadata": {
      "needs_background": "light"
     },
     "output_type": "display_data"
    }
   ],
   "source": [
    "plt.imshow(images[0])\n",
    "labels[0]"
   ]
  },
  {
   "cell_type": "code",
   "execution_count": 199,
   "id": "99a092cc",
   "metadata": {},
   "outputs": [],
   "source": [
    "# l1 784 -> 256\n",
    "# l2 256 -> 9\n",
    "lr = 0.001\n",
    "h = 0.00001"
   ]
  },
  {
   "cell_type": "code",
   "execution_count": 200,
   "id": "4e74bbcd",
   "metadata": {},
   "outputs": [],
   "source": [
    "def forward(i, w1, w2):\n",
    "    x = i @ w1\n",
    "    x = x @ w2\n",
    "    return x\n",
    "\n",
    "def loss(got, expected):\n",
    "    return (expected - got).mean()**2"
   ]
  },
  {
   "cell_type": "code",
   "execution_count": 227,
   "id": "4a84c19b",
   "metadata": {},
   "outputs": [],
   "source": [
    "w1 = torch.randn(784*256, requires_grad=True).reshape(784, 256)\n",
    "w2 = torch.randn(256*9, requires_grad=True).reshape(256, 9)\n",
    "\n",
    "losses = []\n",
    "\n",
    "for i in range(batches):\n",
    "    x = torch.tensor(images[i].flatten())\n",
    "    y = torch.tensor(labels[i].item())\n",
    "    \n",
    "    ans = forward(x, w1, w2)\n",
    "    l = loss(ans, y)\n",
    "    \n",
    "    losses.append(l.item())\n",
    "    \n",
    "    w1.retain_grad()\n",
    "    w2.retain_grad()\n",
    "    \n",
    "    l.backward()\n",
    "    \n",
    "    \n",
    "    "
   ]
  },
  {
   "cell_type": "code",
   "execution_count": 228,
   "id": "173b7d03",
   "metadata": {},
   "outputs": [
    {
     "data": {
      "text/plain": [
       "tensor([[0., 0., 0.,  ..., 0., 0., 0.],\n",
       "        [0., 0., 0.,  ..., 0., 0., 0.],\n",
       "        [0., 0., 0.,  ..., 0., 0., 0.],\n",
       "        ...,\n",
       "        [0., 0., 0.,  ..., 0., 0., 0.],\n",
       "        [0., 0., 0.,  ..., 0., 0., 0.],\n",
       "        [0., 0., 0.,  ..., 0., 0., 0.]])"
      ]
     },
     "execution_count": 228,
     "metadata": {},
     "output_type": "execute_result"
    }
   ],
   "source": [
    "w1.grad"
   ]
  },
  {
   "cell_type": "code",
   "execution_count": 235,
   "id": "553ef83d",
   "metadata": {},
   "outputs": [
    {
     "data": {
      "text/plain": [
       "tensor([[-7.0331e+08, -7.0331e+08, -7.0331e+08,  ..., -7.0331e+08,\n",
       "         -7.0331e+08, -7.0331e+08],\n",
       "        [ 2.1053e+09,  2.1053e+09,  2.1053e+09,  ...,  2.1053e+09,\n",
       "          2.1053e+09,  2.1053e+09],\n",
       "        [-3.8711e+08, -3.8711e+08, -3.8711e+08,  ..., -3.8711e+08,\n",
       "         -3.8711e+08, -3.8711e+08],\n",
       "        ...,\n",
       "        [ 1.1286e+09,  1.1286e+09,  1.1286e+09,  ...,  1.1286e+09,\n",
       "          1.1286e+09,  1.1286e+09],\n",
       "        [ 2.9766e+08,  2.9766e+08,  2.9766e+08,  ...,  2.9766e+08,\n",
       "          2.9766e+08,  2.9766e+08],\n",
       "        [ 4.0172e+08,  4.0172e+08,  4.0172e+08,  ...,  4.0172e+08,\n",
       "          4.0172e+08,  4.0172e+08]])"
      ]
     },
     "execution_count": 235,
     "metadata": {},
     "output_type": "execute_result"
    }
   ],
   "source": [
    "w2.grad"
   ]
  },
  {
   "cell_type": "code",
   "execution_count": 202,
   "id": "3a480741",
   "metadata": {},
   "outputs": [
    {
     "data": {
      "text/plain": [
       "[<matplotlib.lines.Line2D at 0x14ca20430>]"
      ]
     },
     "execution_count": 202,
     "metadata": {},
     "output_type": "execute_result"
    },
    {
     "data": {
      "image/png": "[encoded data removed]",
      "text/plain": [
       "<Figure size 432x288 with 1 Axes>"
      ]
     },
     "metadata": {
      "needs_background": "light"
     },
     "output_type": "display_data"
    }
   ],
   "source": [
    "plt.plot(losses)"
   ]
  }
 ],
 "metadata": {
  "kernelspec": {
   "display_name": "Python 3 (ipykernel)",
   "language": "python",
   "name": "python3"
  },
  "language_info": {
   "codemirror_mode": {
    "name": "ipython",
    "version": 3
   },
   "file_extension": ".py",
   "mimetype": "text/x-python",
   "name": "python",
   "nbconvert_exporter": "python",
   "pygments_lexer": "ipython3",
   "version": "3.10.6"
  }
 },
 "nbformat": 4,
 "nbformat_minor": 5
}
