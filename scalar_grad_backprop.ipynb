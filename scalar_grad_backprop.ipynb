{
 "cells": [
  {
   "cell_type": "code",
   "execution_count": 109,
   "id": "4029a159",
   "metadata": {},
   "outputs": [],
   "source": [
    "class Value:\n",
    "    def __init__(self, data, children=[]):\n",
    "        self.data = data\n",
    "        self.children = children\n",
    "        self.grad = 0\n",
    "        self._backward = lambda: None\n",
    "        \n",
    "    def backward(self):\n",
    "        l = []\n",
    "        def build(v):\n",
    "            for child in v.children:\n",
    "                build(child)\n",
    "            l.append(v)\n",
    "        build(self)\n",
    "        \n",
    "        topo = reversed(l)\n",
    "        self.grad = 1\n",
    "        for v in topo:\n",
    "            v._backward()\n",
    "        \n",
    "    def __add__(self, other):\n",
    "        \n",
    "        out = Value(self.data + other.data, [self, other])\n",
    "    \n",
    "        def _backward():\n",
    "            # chain rule\n",
    "            # f(x,y) = x + y\n",
    "            # dx = 1\n",
    "            # dy = 1\n",
    "            self.grad += 1 * out.grad\n",
    "            other.grad += 1 * out.grad\n",
    "            \n",
    "        out._backward = _backward\n",
    "            \n",
    "        return out\n",
    "        \n",
    "        \n",
    "    def __mul__(self, other):\n",
    "        \n",
    "        out = Value(self.data * other.data, [self, other])\n",
    "    \n",
    "        def _backward():\n",
    "            # chain rule\n",
    "            # f(x,y) = x * y\n",
    "            # dx = y\n",
    "            # dy = x\n",
    "            self.grad \n",
    "            self.grad += other.data * out.grad\n",
    "            other.grad += self.data * out.grad\n",
    "            \n",
    "        out._backward = _backward\n",
    "        \n",
    "        return out\n",
    "            "
   ]
  },
  {
   "cell_type": "code",
   "execution_count": 110,
   "id": "251e6197",
   "metadata": {},
   "outputs": [],
   "source": [
    "a = Value(4)\n",
    "b = Value(3)\n",
    "c = Value(2)\n",
    "\n",
    "d = a + b # 7\n",
    "e = d * c # 14\n",
    "\n",
    "e.backward()"
   ]
  },
  {
   "cell_type": "code",
   "execution_count": 111,
   "id": "0842531c",
   "metadata": {},
   "outputs": [
    {
     "data": {
      "text/plain": [
       "2"
      ]
     },
     "execution_count": 111,
     "metadata": {},
     "output_type": "execute_result"
    }
   ],
   "source": [
    "a.grad"
   ]
  },
  {
   "cell_type": "code",
   "execution_count": 112,
   "id": "111b985b",
   "metadata": {},
   "outputs": [
    {
     "data": {
      "text/plain": [
       "2"
      ]
     },
     "execution_count": 112,
     "metadata": {},
     "output_type": "execute_result"
    }
   ],
   "source": [
    "b.grad"
   ]
  },
  {
   "cell_type": "code",
   "execution_count": 113,
   "id": "e91c6d3f",
   "metadata": {},
   "outputs": [
    {
     "data": {
      "text/plain": [
       "7"
      ]
     },
     "execution_count": 113,
     "metadata": {},
     "output_type": "execute_result"
    }
   ],
   "source": [
    "c.grad"
   ]
  },
  {
   "cell_type": "code",
   "execution_count": 114,
   "id": "07b29e77",
   "metadata": {},
   "outputs": [
    {
     "data": {
      "text/plain": [
       "2"
      ]
     },
     "execution_count": 114,
     "metadata": {},
     "output_type": "execute_result"
    }
   ],
   "source": [
    "d.grad"
   ]
  },
  {
   "cell_type": "code",
   "execution_count": 115,
   "id": "b0237f99",
   "metadata": {},
   "outputs": [
    {
     "data": {
      "text/plain": [
       "1"
      ]
     },
     "execution_count": 115,
     "metadata": {},
     "output_type": "execute_result"
    }
   ],
   "source": [
    "e.grad"
   ]
  }
 ],
 "metadata": {
  "kernelspec": {
   "display_name": "Python 3 (ipykernel)",
   "language": "python",
   "name": "python3"
  },
  "language_info": {
   "codemirror_mode": {
    "name": "ipython",
    "version": 3
   },
   "file_extension": ".py",
   "mimetype": "text/x-python",
   "name": "python",
   "nbconvert_exporter": "python",
   "pygments_lexer": "ipython3",
   "version": "3.10.6"
  }
 },
 "nbformat": 4,
 "nbformat_minor": 5
}
