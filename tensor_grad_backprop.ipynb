{
 "cells": [
  {
   "cell_type": "code",
   "execution_count": 2,
   "id": "b16682d7",
   "metadata": {},
   "outputs": [],
   "source": [
    "import numpy as np\n",
    "import matplotlib.pyplot as plt\n",
    "%matplotlib inline"
   ]
  },
  {
   "cell_type": "code",
   "execution_count": 100,
   "id": "7cac886c",
   "metadata": {},
   "outputs": [],
   "source": [
    "class Tensor:\n",
    "    def __init__(self, data, children = []):\n",
    "        self.data = np.array(data)\n",
    "        self.grad = np.zeros(self.data.shape)\n",
    "        self._children = children\n",
    "        self._backward = lambda: None\n",
    "    \n",
    "    @property\n",
    "    def shape(self):\n",
    "        return self.data.shape\n",
    "        \n",
    "    def backward(self):\n",
    "        l = []\n",
    "        def build(v):\n",
    "            for child in v._children:\n",
    "                build(child)\n",
    "            l.append(v)\n",
    "        build(self)\n",
    "        \n",
    "        topo = reversed(l)\n",
    "        self.grad = 1\n",
    "        for v in topo:\n",
    "            v._backward()\n",
    "        \n",
    "    \n",
    "    def __repr__(self):\n",
    "        return f'Tensor([{self.data}])'\n",
    "    \n",
    "    def __add__(self, other):\n",
    "        out = Tensor(self.data + other.data, (self, other))\n",
    "    \n",
    "        def _backward():\n",
    "            self.grad += out.grad\n",
    "            other.grad += out.grad\n",
    "            \n",
    "        out._backward = _backward\n",
    "        \n",
    "        return out\n",
    "    \n",
    "    def __matmul__(self, other):\n",
    "        out = Tensor(self.data @ other.data, (self, other))\n",
    "        \n",
    "        def _backward():\n",
    "            self.grad += other.data * out.grad\n",
    "            other.grad += self.data * out.grad\n",
    "            \n",
    "        out._backward = _backward\n",
    "        \n",
    "        return out\n",
    "    \n",
    "    def __mul__(self, other):\n",
    "        out = Tensor(self.data * other.data, (self, other))\n",
    "        \n",
    "        def _backward():\n",
    "            self.grad += other.data * out.grad\n",
    "            other.grad += self.data * out.grad\n",
    "            \n",
    "        out._backward = _backward\n",
    "        \n",
    "        return out"
   ]
  },
  {
   "cell_type": "code",
   "execution_count": 128,
   "id": "c9f8a918",
   "metadata": {},
   "outputs": [
    {
     "data": {
      "text/plain": [
       "array([2., 4., 6.])"
      ]
     },
     "execution_count": 128,
     "metadata": {},
     "output_type": "execute_result"
    }
   ],
   "source": [
    "a = Tensor([1,2,3])\n",
    "b = Tensor([1,2,3])\n",
    "c = Tensor([4,5,6])\n",
    "d = (a + b) @ c\n",
    "d.backward()\n",
    "\n",
    "c.grad"
   ]
  },
  {
   "cell_type": "code",
   "execution_count": 129,
   "id": "b4e1ee59",
   "metadata": {},
   "outputs": [
    {
     "data": {
      "text/plain": [
       "tensor([2., 4., 6.])"
      ]
     },
     "execution_count": 129,
     "metadata": {},
     "output_type": "execute_result"
    }
   ],
   "source": [
    "import torch\n",
    "\n",
    "a = torch.tensor([1,2,3], dtype=torch.float32, requires_grad=True)\n",
    "b = torch.tensor([1,2,3], dtype=torch.float32, requires_grad=True)\n",
    "c = torch.tensor([4,5,6], dtype=torch.float32, requires_grad=True)\n",
    "d = (a + b) @ c\n",
    "d.backward()\n",
    "\n",
    "c.grad"
   ]
  }
 ],
 "metadata": {
  "kernelspec": {
   "display_name": "Python 3 (ipykernel)",
   "language": "python",
   "name": "python3"
  },
  "language_info": {
   "codemirror_mode": {
    "name": "ipython",
    "version": 3
   },
   "file_extension": ".py",
   "mimetype": "text/x-python",
   "name": "python",
   "nbconvert_exporter": "python",
   "pygments_lexer": "ipython3",
   "version": "3.10.6"
  }
 },
 "nbformat": 4,
 "nbformat_minor": 5
}
